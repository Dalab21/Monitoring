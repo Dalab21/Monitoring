{
 "cells": [
  {
   "cell_type": "markdown",
   "id": "80b1b90d",
   "metadata": {},
   "source": [
    "#### Arize avec ML stack"
   ]
  },
  {
   "cell_type": "markdown",
   "id": "7735657d",
   "metadata": {},
   "source": [
    "##### 1. Install Arize"
   ]
  },
  {
   "cell_type": "markdown",
   "id": "e70e40e8",
   "metadata": {},
   "source": [
    "### I. ARIZE"
   ]
  },
  {
   "cell_type": "code",
   "execution_count": 1,
   "id": "d04290e6",
   "metadata": {},
   "outputs": [
    {
     "name": "stdout",
     "output_type": "stream",
     "text": [
      "Requirement already satisfied: arize in c:\\users\\daou\\anaconda3\\lib\\site-packages (7.8.0)\n",
      "Requirement already satisfied: requests-futures==1.0.0 in c:\\users\\daou\\anaconda3\\lib\\site-packages (from arize) (1.0.0)\n",
      "Requirement already satisfied: googleapis-common-protos~=1.51 in c:\\users\\daou\\anaconda3\\lib\\site-packages (from arize) (1.62.0)\n",
      "Requirement already satisfied: protobuf<5,>=3.12 in c:\\users\\daou\\anaconda3\\lib\\site-packages (from arize) (3.20.3)\n",
      "Requirement already satisfied: pandas<3,>=0.25.3 in c:\\users\\daou\\anaconda3\\lib\\site-packages (from arize) (1.5.3)\n",
      "Requirement already satisfied: pyarrow>=0.15.0 in c:\\users\\daou\\anaconda3\\lib\\site-packages (from arize) (13.0.0)\n",
      "Requirement already satisfied: tqdm<5,>=4.60.0 in c:\\users\\daou\\anaconda3\\lib\\site-packages (from arize) (4.64.1)\n",
      "Requirement already satisfied: requests>=1.2.0 in c:\\users\\daou\\anaconda3\\lib\\site-packages (from requests-futures==1.0.0->arize) (2.31.0)\n",
      "Requirement already satisfied: python-dateutil>=2.8.1 in c:\\users\\daou\\anaconda3\\lib\\site-packages (from pandas<3,>=0.25.3->arize) (2.8.2)\n",
      "Requirement already satisfied: pytz>=2020.1 in c:\\users\\daou\\anaconda3\\lib\\site-packages (from pandas<3,>=0.25.3->arize) (2022.7)\n",
      "Requirement already satisfied: numpy>=1.21.0 in c:\\users\\daou\\anaconda3\\lib\\site-packages (from pandas<3,>=0.25.3->arize) (1.23.5)\n",
      "Requirement already satisfied: colorama in c:\\users\\daou\\anaconda3\\lib\\site-packages (from tqdm<5,>=4.60.0->arize) (0.4.6)\n",
      "Requirement already satisfied: six>=1.5 in c:\\users\\daou\\anaconda3\\lib\\site-packages (from python-dateutil>=2.8.1->pandas<3,>=0.25.3->arize) (1.16.0)\n",
      "Requirement already satisfied: charset-normalizer<4,>=2 in c:\\users\\daou\\anaconda3\\lib\\site-packages (from requests>=1.2.0->requests-futures==1.0.0->arize) (2.0.4)\n",
      "Requirement already satisfied: idna<4,>=2.5 in c:\\users\\daou\\anaconda3\\lib\\site-packages (from requests>=1.2.0->requests-futures==1.0.0->arize) (2.10)\n",
      "Requirement already satisfied: urllib3<3,>=1.21.1 in c:\\users\\daou\\anaconda3\\lib\\site-packages (from requests>=1.2.0->requests-futures==1.0.0->arize) (1.26.14)\n",
      "Requirement already satisfied: certifi>=2017.4.17 in c:\\users\\daou\\anaconda3\\lib\\site-packages (from requests>=1.2.0->requests-futures==1.0.0->arize) (2022.12.7)\n"
     ]
    },
    {
     "name": "stderr",
     "output_type": "stream",
     "text": [
      "\n",
      "[notice] A new release of pip is available: 23.3.1 -> 23.3.2\n",
      "[notice] To update, run: python.exe -m pip install --upgrade pip\n"
     ]
    }
   ],
   "source": [
    "!pip install arize"
   ]
  },
  {
   "cell_type": "markdown",
   "id": "0fe850f7",
   "metadata": {},
   "source": [
    "##### 2. Import and logging "
   ]
  },
  {
   "cell_type": "code",
   "execution_count": 2,
   "id": "f8fd154b",
   "metadata": {},
   "outputs": [],
   "source": [
    "from arize.pandas.logger import Client, Schema\n",
    "from arize.utils.types import ModelTypes, Environments, Schema, Metrics\n",
    "\n",
    "API_KEY = '797c7dd9b8fccc2387d'\n",
    "SPACE_KEY = '326c8cd'\n",
    "arize_client = Client(space_key=SPACE_KEY, api_key=API_KEY)"
   ]
  },
  {
   "cell_type": "markdown",
   "id": "647ab496",
   "metadata": {},
   "source": [
    "##### 3. Download dataset "
   ]
  },
  {
   "cell_type": "code",
   "execution_count": 3,
   "id": "dc9c39c4",
   "metadata": {},
   "outputs": [],
   "source": [
    "from sklearn.datasets import load_breast_cancer\n",
    "breast_cancer_dataset = load_breast_cancer()"
   ]
  },
  {
   "cell_type": "markdown",
   "id": "36e3e3ce",
   "metadata": {},
   "source": [
    "##### 4. Extract features  "
   ]
  },
  {
   "cell_type": "code",
   "execution_count": 4,
   "id": "fc24a5ed",
   "metadata": {},
   "outputs": [],
   "source": [
    "breast_cancer_features = breast_cancer_dataset['data'] # feature data\n",
    "breast_cancer_feature_names = breast_cancer_dataset['feature_names'] # feature names\n",
    "breast_cancer_targets = breast_cancer_dataset['target'] # actual data\n",
    "breast_cancer_target_names = breast_cancer_dataset['target_names'] # actual labels"
   ]
  },
  {
   "cell_type": "markdown",
   "id": "af590a5e",
   "metadata": {},
   "source": [
    "##### 3. Corresponding features Download dataset Arize"
   ]
  },
  {
   "cell_type": "code",
   "execution_count": 5,
   "id": "49e77625",
   "metadata": {},
   "outputs": [],
   "source": [
    "target_name_transcription = [] # this will become our list of actuals\n",
    "\n",
    "for i in breast_cancer_targets:\n",
    "    target_name_transcription.append(breast_cancer_target_names[i])"
   ]
  },
  {
   "cell_type": "markdown",
   "id": "de6d6423",
   "metadata": {},
   "source": [
    "##### 4. Create pandas dataframe dataset"
   ]
  },
  {
   "cell_type": "code",
   "execution_count": 6,
   "id": "ae7efc0a",
   "metadata": {},
   "outputs": [],
   "source": [
    "import pandas as pd\n",
    "\n",
    "df = pd.DataFrame(breast_cancer_features, columns=breast_cancer_feature_names)\n",
    "df['actual_label'] = target_name_transcription\n",
    "df['prediction_label'] = target_name_transcription\n",
    "\n",
    "# this is optional, but makes this example more interesting in the platform\n",
    "df['prediction_label'] = df['prediction_label'].iloc[::-1].reset_index(drop=True) "
   ]
  },
  {
   "cell_type": "markdown",
   "id": "fc3cd0bc",
   "metadata": {},
   "source": [
    "#### 5. Log Data to Arize"
   ]
  },
  {
   "cell_type": "code",
   "execution_count": 7,
   "id": "bc432a0b",
   "metadata": {},
   "outputs": [],
   "source": [
    "schema = Schema(\n",
    "    actual_label_column_name=\"actual_label\",\n",
    "    prediction_label_column_name=\"prediction_label\",\n",
    "    \n",
    "    feature_column_names=[\n",
    "       'mean radius', 'mean texture', 'mean perimeter', 'mean area',\n",
    "       'mean smoothness', 'mean compactness', 'mean concavity',\n",
    "       'mean concave points', 'mean symmetry', 'mean fractal dimension',\n",
    "       'radius error', 'texture error', 'perimeter error', 'area error',\n",
    "       'smoothness error', 'compactness error', 'concavity error',\n",
    "       'concave points error', 'symmetry error',\n",
    "       'fractal dimension error', 'worst radius', 'worst texture',\n",
    "       'worst perimeter', 'worst area', 'worst smoothness',\n",
    "       'worst compactness', 'worst concavity', 'worst concave points',\n",
    "       'worst symmetry', 'worst fractal dimension'\n",
    "       ]\n",
    ")"
   ]
  },
  {
   "cell_type": "code",
   "execution_count": 9,
   "id": "0ef41a4e",
   "metadata": {},
   "outputs": [
    {
     "name": "stdout",
     "output_type": "stream",
     "text": [
      "\u001b[33m  arize.utils.logging | WARNING | Prediction ID is not specified. Arize generates UUIDs for the model's predictions if not provided by the user. Please note, you won't be able to send delayed data for joining if a Prediction ID is not provided.\u001b[0m\n",
      "\u001b[38;21m  arize.utils.logging | INFO | Success! Check out your data at https://app.arize.com/organizations/QWNjb3VudE9yZ2FuaXphdGlvbjo1NDcx/spaces/U3BhY2U6NTc3Ng==/models/modelName/breast_cancer_dataset?selectedTab=dataIngestion\u001b[0m\n"
     ]
    }
   ],
   "source": [
    "# Log the model data\n",
    "response = arize_client.log(\n",
    "    dataframe=df,\n",
    "    schema=schema,\n",
    "    model_id='breast_cancer_dataset', \n",
    "    model_version='v1',\n",
    "    model_type=ModelTypes.BINARY_CLASSIFICATION,\n",
    "    metrics_validation=[Metrics.CLASSIFICATION], \n",
    "    environment=Environments.PRODUCTION\n",
    ") "
   ]
  },
  {
   "cell_type": "markdown",
   "id": "9011c1da",
   "metadata": {},
   "source": [
    "### II. MLFLOW"
   ]
  },
  {
   "cell_type": "markdown",
   "id": "91180a5e",
   "metadata": {},
   "source": [
    "##### A simple example of using params for model inference:"
   ]
  },
  {
   "cell_type": "code",
   "execution_count": 10,
   "id": "e1a5b8e5",
   "metadata": {},
   "outputs": [
    {
     "name": "stdout",
     "output_type": "stream",
     "text": [
      "Requirement already satisfied: mlflow in c:\\users\\daou\\anaconda3\\lib\\site-packages (2.9.2)\n",
      "Requirement already satisfied: click<9,>=7.0 in c:\\users\\daou\\anaconda3\\lib\\site-packages (from mlflow) (8.0.4)\n",
      "Requirement already satisfied: cloudpickle<4 in c:\\users\\daou\\anaconda3\\lib\\site-packages (from mlflow) (2.0.0)\n",
      "Requirement already satisfied: databricks-cli<1,>=0.8.7 in c:\\users\\daou\\anaconda3\\lib\\site-packages (from mlflow) (0.18.0)\n",
      "Requirement already satisfied: entrypoints<1 in c:\\users\\daou\\anaconda3\\lib\\site-packages (from mlflow) (0.4)\n",
      "Requirement already satisfied: gitpython<4,>=2.1.0 in c:\\users\\daou\\anaconda3\\lib\\site-packages (from mlflow) (3.1.40)\n",
      "Requirement already satisfied: pyyaml<7,>=5.1 in c:\\users\\daou\\anaconda3\\lib\\site-packages (from mlflow) (6.0)\n",
      "Requirement already satisfied: protobuf<5,>=3.12.0 in c:\\users\\daou\\anaconda3\\lib\\site-packages (from mlflow) (3.20.3)\n",
      "Requirement already satisfied: pytz<2024 in c:\\users\\daou\\anaconda3\\lib\\site-packages (from mlflow) (2022.7)\n",
      "Requirement already satisfied: requests<3,>=2.17.3 in c:\\users\\daou\\anaconda3\\lib\\site-packages (from mlflow) (2.31.0)"
     ]
    },
    {
     "name": "stderr",
     "output_type": "stream",
     "text": [
      "\n",
      "[notice] A new release of pip is available: 23.3.1 -> 23.3.2\n",
      "[notice] To update, run: python.exe -m pip install --upgrade pip\n"
     ]
    },
    {
     "name": "stdout",
     "output_type": "stream",
     "text": [
      "\n",
      "Requirement already satisfied: packaging<24 in c:\\users\\daou\\anaconda3\\lib\\site-packages (from mlflow) (22.0)\n",
      "Requirement already satisfied: importlib-metadata!=4.7.0,<8,>=3.7.0 in c:\\users\\daou\\anaconda3\\lib\\site-packages (from mlflow) (4.11.3)\n",
      "Requirement already satisfied: sqlparse<1,>=0.4.0 in c:\\users\\daou\\anaconda3\\lib\\site-packages (from mlflow) (0.4.4)\n",
      "Requirement already satisfied: alembic!=1.10.0,<2 in c:\\users\\daou\\anaconda3\\lib\\site-packages (from mlflow) (1.13.0)\n",
      "Requirement already satisfied: docker<7,>=4.0.0 in c:\\users\\daou\\anaconda3\\lib\\site-packages (from mlflow) (6.1.3)\n",
      "Requirement already satisfied: Flask<4 in c:\\users\\daou\\anaconda3\\lib\\site-packages (from mlflow) (2.2.2)\n",
      "Requirement already satisfied: numpy<2 in c:\\users\\daou\\anaconda3\\lib\\site-packages (from mlflow) (1.23.5)\n",
      "Requirement already satisfied: scipy<2 in c:\\users\\daou\\anaconda3\\lib\\site-packages (from mlflow) (1.10.0)\n",
      "Requirement already satisfied: pandas<3 in c:\\users\\daou\\anaconda3\\lib\\site-packages (from mlflow) (1.5.3)\n",
      "Requirement already satisfied: querystring-parser<2 in c:\\users\\daou\\anaconda3\\lib\\site-packages (from mlflow) (1.2.4)\n",
      "Requirement already satisfied: sqlalchemy<3,>=1.4.0 in c:\\users\\daou\\anaconda3\\lib\\site-packages (from mlflow) (1.4.39)\n",
      "Requirement already satisfied: scikit-learn<2 in c:\\users\\daou\\anaconda3\\lib\\site-packages (from mlflow) (1.3.2)\n",
      "Requirement already satisfied: pyarrow<15,>=4.0.0 in c:\\users\\daou\\anaconda3\\lib\\site-packages (from mlflow) (13.0.0)\n",
      "Requirement already satisfied: markdown<4,>=3.3 in c:\\users\\daou\\anaconda3\\lib\\site-packages (from mlflow) (3.4.1)\n",
      "Requirement already satisfied: matplotlib<4 in c:\\users\\daou\\anaconda3\\lib\\site-packages (from mlflow) (3.7.0)\n",
      "Requirement already satisfied: waitress<3 in c:\\users\\daou\\anaconda3\\lib\\site-packages (from mlflow) (2.1.2)\n",
      "Requirement already satisfied: Jinja2<4,>=3.0 in c:\\users\\daou\\anaconda3\\lib\\site-packages (from mlflow) (3.1.2)\n",
      "Requirement already satisfied: Mako in c:\\users\\daou\\anaconda3\\lib\\site-packages (from alembic!=1.10.0,<2->mlflow) (1.3.0)\n",
      "Requirement already satisfied: typing-extensions>=4 in c:\\users\\daou\\anaconda3\\lib\\site-packages (from alembic!=1.10.0,<2->mlflow) (4.4.0)\n",
      "Requirement already satisfied: colorama in c:\\users\\daou\\anaconda3\\lib\\site-packages (from click<9,>=7.0->mlflow) (0.4.6)\n",
      "Requirement already satisfied: pyjwt>=1.7.0 in c:\\users\\daou\\anaconda3\\lib\\site-packages (from databricks-cli<1,>=0.8.7->mlflow) (2.4.0)\n",
      "Requirement already satisfied: oauthlib>=3.1.0 in c:\\users\\daou\\anaconda3\\lib\\site-packages (from databricks-cli<1,>=0.8.7->mlflow) (3.2.2)\n",
      "Requirement already satisfied: tabulate>=0.7.7 in c:\\users\\daou\\anaconda3\\lib\\site-packages (from databricks-cli<1,>=0.8.7->mlflow) (0.8.10)\n",
      "Requirement already satisfied: six>=1.10.0 in c:\\users\\daou\\anaconda3\\lib\\site-packages (from databricks-cli<1,>=0.8.7->mlflow) (1.16.0)\n",
      "Requirement already satisfied: urllib3<3,>=1.26.7 in c:\\users\\daou\\anaconda3\\lib\\site-packages (from databricks-cli<1,>=0.8.7->mlflow) (1.26.14)\n",
      "Requirement already satisfied: websocket-client>=0.32.0 in c:\\users\\daou\\anaconda3\\lib\\site-packages (from docker<7,>=4.0.0->mlflow) (0.58.0)\n",
      "Requirement already satisfied: pywin32>=304 in c:\\users\\daou\\anaconda3\\lib\\site-packages (from docker<7,>=4.0.0->mlflow) (305.1)\n",
      "Requirement already satisfied: Werkzeug>=2.2.2 in c:\\users\\daou\\anaconda3\\lib\\site-packages (from Flask<4->mlflow) (2.2.2)\n",
      "Requirement already satisfied: itsdangerous>=2.0 in c:\\users\\daou\\anaconda3\\lib\\site-packages (from Flask<4->mlflow) (2.0.1)\n",
      "Requirement already satisfied: gitdb<5,>=4.0.1 in c:\\users\\daou\\anaconda3\\lib\\site-packages (from gitpython<4,>=2.1.0->mlflow) (4.0.11)\n",
      "Requirement already satisfied: zipp>=0.5 in c:\\users\\daou\\anaconda3\\lib\\site-packages (from importlib-metadata!=4.7.0,<8,>=3.7.0->mlflow) (3.11.0)\n",
      "Requirement already satisfied: MarkupSafe>=2.0 in c:\\users\\daou\\anaconda3\\lib\\site-packages (from Jinja2<4,>=3.0->mlflow) (2.1.1)\n",
      "Requirement already satisfied: contourpy>=1.0.1 in c:\\users\\daou\\anaconda3\\lib\\site-packages (from matplotlib<4->mlflow) (1.0.5)\n",
      "Requirement already satisfied: cycler>=0.10 in c:\\users\\daou\\anaconda3\\lib\\site-packages (from matplotlib<4->mlflow) (0.10.0)\n",
      "Requirement already satisfied: fonttools>=4.22.0 in c:\\users\\daou\\anaconda3\\lib\\site-packages (from matplotlib<4->mlflow) (4.25.0)\n",
      "Requirement already satisfied: kiwisolver>=1.0.1 in c:\\users\\daou\\anaconda3\\lib\\site-packages (from matplotlib<4->mlflow) (1.4.4)\n",
      "Requirement already satisfied: pillow>=6.2.0 in c:\\users\\daou\\anaconda3\\lib\\site-packages (from matplotlib<4->mlflow) (9.4.0)\n",
      "Requirement already satisfied: pyparsing>=2.3.1 in c:\\users\\daou\\anaconda3\\lib\\site-packages (from matplotlib<4->mlflow) (2.4.7)\n",
      "Requirement already satisfied: python-dateutil>=2.7 in c:\\users\\daou\\anaconda3\\lib\\site-packages (from matplotlib<4->mlflow) (2.8.2)\n",
      "Requirement already satisfied: charset-normalizer<4,>=2 in c:\\users\\daou\\anaconda3\\lib\\site-packages (from requests<3,>=2.17.3->mlflow) (2.0.4)\n",
      "Requirement already satisfied: idna<4,>=2.5 in c:\\users\\daou\\anaconda3\\lib\\site-packages (from requests<3,>=2.17.3->mlflow) (2.10)\n",
      "Requirement already satisfied: certifi>=2017.4.17 in c:\\users\\daou\\anaconda3\\lib\\site-packages (from requests<3,>=2.17.3->mlflow) (2022.12.7)\n",
      "Requirement already satisfied: joblib>=1.1.1 in c:\\users\\daou\\anaconda3\\lib\\site-packages (from scikit-learn<2->mlflow) (1.1.1)\n",
      "Requirement already satisfied: threadpoolctl>=2.0.0 in c:\\users\\daou\\anaconda3\\lib\\site-packages (from scikit-learn<2->mlflow) (2.2.0)\n",
      "Requirement already satisfied: greenlet!=0.4.17 in c:\\users\\daou\\anaconda3\\lib\\site-packages (from sqlalchemy<3,>=1.4.0->mlflow) (2.0.1)\n",
      "Requirement already satisfied: smmap<6,>=3.0.1 in c:\\users\\daou\\anaconda3\\lib\\site-packages (from gitdb<5,>=4.0.1->gitpython<4,>=2.1.0->mlflow) (5.0.1)\n"
     ]
    }
   ],
   "source": [
    "!pip install mlflow"
   ]
  },
  {
   "cell_type": "code",
   "execution_count": 11,
   "id": "a7e8c1f1",
   "metadata": {},
   "outputs": [
    {
     "name": "stderr",
     "output_type": "stream",
     "text": [
      "2023/12/21 11:09:14 WARNING mlflow.utils.git_utils: Failed to import Git (the Git executable is probably not on your PATH), so Git SHA is not available. Error: Failed to initialize: Bad git executable.\n",
      "The git executable must be specified in one of the following ways:\n",
      "    - be included in your $PATH\n",
      "    - be set via $GIT_PYTHON_GIT_EXECUTABLE\n",
      "    - explicitly set via git.refresh()\n",
      "\n",
      "All git commands will error until this is rectified.\n",
      "\n",
      "This initial warning can be silenced or aggravated in the future by setting the\n",
      "$GIT_PYTHON_REFRESH environment variable. Use one of the following values:\n",
      "    - quiet|q|silence|s|none|n|0: for no warning or exception\n",
      "    - warn|w|warning|1: for a printed warning\n",
      "    - error|e|raise|r|2: for a raised exception\n",
      "\n",
      "Example:\n",
      "    export GIT_PYTHON_REFRESH=quiet\n",
      "\n",
      "C:\\Users\\Daou\\anaconda3\\lib\\site-packages\\_distutils_hack\\__init__.py:33: UserWarning: Setuptools is replacing distutils.\n",
      "  warnings.warn(\"Setuptools is replacing distutils.\")\n"
     ]
    }
   ],
   "source": [
    "import mlflow\n",
    "from mlflow.models import infer_signature\n",
    "\n",
    "\n",
    "class MyModel(mlflow.pyfunc.PythonModel):\n",
    "    def predict(self, ctx, model_input, params):\n",
    "        return list(params.values())\n",
    "\n",
    "\n",
    "params = {\"str_param\": \"string\", \"int_array\": [1, 2, 3]}\n",
    "# params' default values are saved with ModelSignature\n",
    "signature = infer_signature([\"input\"], params=params)\n",
    "\n",
    "with mlflow.start_run():\n",
    "    model_info = mlflow.pyfunc.log_model(\n",
    "        python_model=MyModel(), artifact_path=\"my_model\", signature=signature\n",
    "    )\n",
    "\n",
    "loaded_model = mlflow.pyfunc.load_model(model_info.model_uri)\n",
    "\n",
    "# Not passing params -- predict with default values\n",
    "loaded_predict = loaded_model.predict([\"input\"])\n",
    "assert loaded_predict == [\"string\", [1, 2, 3]]\n",
    "\n",
    "# Passing some params -- add default values\n",
    "loaded_predict = loaded_model.predict([\"input\"], params={\"str_param\": \"new_string\"})\n",
    "assert loaded_predict == [\"new_string\", [1, 2, 3]]\n",
    "\n",
    "# Passing all params -- override\n",
    "loaded_predict = loaded_model.predict(\n",
    "    [\"input\"], params={\"str_param\": \"new_string\", \"int_array\": [4, 5, 6]}\n",
    ")\n",
    "assert loaded_predict == [\"new_string\", [4, 5, 6]]"
   ]
  },
  {
   "cell_type": "code",
   "execution_count": null,
   "id": "16475bcc",
   "metadata": {},
   "outputs": [],
   "source": []
  }
 ],
 "metadata": {
  "kernelspec": {
   "display_name": "Python 3",
   "language": "python",
   "name": "python3"
  },
  "language_info": {
   "codemirror_mode": {
    "name": "ipython",
    "version": 3
   },
   "file_extension": ".py",
   "mimetype": "text/x-python",
   "name": "python",
   "nbconvert_exporter": "python",
   "pygments_lexer": "ipython3",
   "version": "3.10.9"
  }
 },
 "nbformat": 4,
 "nbformat_minor": 5
}
